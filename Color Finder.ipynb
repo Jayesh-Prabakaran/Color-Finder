{
 "cells": [
  {
   "cell_type": "code",
   "execution_count": 5,
   "metadata": {},
   "outputs": [
    {
     "name": "stdout",
     "output_type": "stream",
     "text": [
      "Color at 277x151 is  Barn Red\n",
      "Color at 1038x555 is  Dark Goldenrod\n",
      "Color at 1029x254 is  Brilliant Lavender\n",
      "Color at 1029x254 is  Electric Lavender\n",
      "Color at 415x653 is  Dark Yellow\n",
      "Color at 1236x547 is  Dark Green\n"
     ]
    }
   ],
   "source": [
    "import cv2\n",
    "import numpy as np\n",
    "import xlrd\n",
    "book=xlrd.open_workbook(\"colors.xlsx\")\n",
    "sheet=book.sheet_by_index(0)\n",
    "def click_event(event,x,y,flags,param):#4-reaches the function   \n",
    "    if(event==cv2.EVENT_LBUTTONDOWN):#5-if event is left click\n",
    "        blue=img[y,x,0]\n",
    "        green=img[y,x,1]\n",
    "        red=img[y,x,2]\n",
    "        for row in range(800):\n",
    "            if sheet.cell_value(row,3)==red and sheet.cell_value(row,4)==green and sheet.cell_value(row,5)==blue:\n",
    "                print(\"Color at \"+str(x)+'x'+str(y)+\" is \",sheet.cell_value(row,1))\n",
    "img=cv2.imread('800.tiff')\n",
    "cv2.imshow(\"Image\",img)#2-shows an empty image\n",
    "cv2.setMouseCallback(\"Image\",click_event)#3-calls the function\n",
    "cv2.waitKey(0)\n",
    "cv2.destroyAllWindows()"
   ]
  }
 ],
 "metadata": {
  "kernelspec": {
   "display_name": "Python 3",
   "language": "python",
   "name": "python3"
  },
  "language_info": {
   "codemirror_mode": {
    "name": "ipython",
    "version": 3
   },
   "file_extension": ".py",
   "mimetype": "text/x-python",
   "name": "python",
   "nbconvert_exporter": "python",
   "pygments_lexer": "ipython3",
   "version": "3.8.5"
  }
 },
 "nbformat": 4,
 "nbformat_minor": 4
}
