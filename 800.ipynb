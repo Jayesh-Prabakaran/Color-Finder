{
 "cells": [
  {
   "cell_type": "code",
   "execution_count": 3,
   "metadata": {},
   "outputs": [],
   "source": [
    "import numpy as np\n",
    "import cv2\n",
    "import xlrd\n",
    "book=xlrd.open_workbook(\"colors.xlsx\")\n",
    "sheet=book.sheet_by_index(0)\n",
    "colors=np.zeros((2000,4000,3),np.uint8)\n",
    "for row in range(20):\n",
    "    for col in range(40):\n",
    "        color=(row*40)+col\n",
    "        r=sheet.cell_value(color,3)\n",
    "        g=sheet.cell_value(color,4)\n",
    "        b=sheet.cell_value(color,5)\n",
    "        cv2.rectangle(colors,(col*100,row*100),((col*100)+100,(row+10)*100),(b,g,r),-1)\n",
    "cv2.imshow(\"Colors\",colors)\n",
    "cv2.imwrite(\"800.jpg\",colors)\n",
    "cv2.waitKey(0)\n",
    "cv2.destroyAllWindows()"
   ]
  }
 ],
 "metadata": {
  "kernelspec": {
   "display_name": "Python 3",
   "language": "python",
   "name": "python3"
  },
  "language_info": {
   "codemirror_mode": {
    "name": "ipython",
    "version": 3
   },
   "file_extension": ".py",
   "mimetype": "text/x-python",
   "name": "python",
   "nbconvert_exporter": "python",
   "pygments_lexer": "ipython3",
   "version": "3.8.5"
  }
 },
 "nbformat": 4,
 "nbformat_minor": 4
}
